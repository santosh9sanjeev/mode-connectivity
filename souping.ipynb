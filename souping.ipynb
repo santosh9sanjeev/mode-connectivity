{
 "cells": [
  {
   "cell_type": "code",
   "execution_count": 60,
   "metadata": {},
   "outputs": [],
   "source": [
    "import torch\n",
    "import clip\n",
    "import numpy as np\n",
    "import matplotlib.pyplot as plt\n",
    "import os\n",
    "import math\n",
    "from torchvision.datasets import CIFAR10\n",
    "from torchvision.transforms import *\n",
    "from tqdm.notebook import tqdm\n",
    "import argparse\n",
    "import numpy as np\n",
    "import os\n",
    "import sys\n",
    "import tabulate\n",
    "import time\n",
    "import torch\n",
    "import torch.nn.functional as F\n",
    "import train_utils\n",
    "import torch.nn as nn\n",
    "import data\n",
    "import torchvision.models as models\n",
    "import utils\n",
    "import clip\n",
    "os.environ[\"CUDA_VISIBLE_DEVICES\"] = \"2\""
   ]
  },
  {
   "cell_type": "code",
   "execution_count": 61,
   "metadata": {},
   "outputs": [
    {
     "name": "stdout",
     "output_type": "stream",
     "text": [
      "env: 'CUDA_VISIBLE_DEVICES'='2'\n"
     ]
    }
   ],
   "source": [
    "%env 'CUDA_VISIBLE_DEVICES'='2'"
   ]
  },
  {
   "cell_type": "code",
   "execution_count": 62,
   "metadata": {},
   "outputs": [
    {
     "name": "stdout",
     "output_type": "stream",
     "text": [
      "2\n"
     ]
    }
   ],
   "source": [
    "value = os.getenv('CUDA_VISIBLE_DEVICES')\n",
    "print(value)"
   ]
  },
  {
   "cell_type": "code",
   "execution_count": 63,
   "metadata": {},
   "outputs": [],
   "source": [
    "dataset = 'CIFAR10'\n",
    "data_path = '/home/santoshsanjeev/dnn-mode-connectivity/'\n",
    "batch_size = 128\n",
    "num_workers = 4\n",
    "transform = 'CLIP'\n",
    "use_test = True\n",
    "seed = 1\n",
    "\n",
    "torch.backends.cudnn.benchmark = True\n",
    "torch.manual_seed(seed)\n",
    "torch.cuda.manual_seed(seed)\n"
   ]
  },
  {
   "cell_type": "code",
   "execution_count": 64,
   "metadata": {},
   "outputs": [
    {
     "name": "stdout",
     "output_type": "stream",
     "text": [
      "dataset_selection\n",
      "Files already downloaded and verified\n",
      "5000 45000\n",
      "Files already downloaded and verified\n"
     ]
    }
   ],
   "source": [
    "\n",
    "loaders, num_classes,classnames = data.loaders(\n",
    "    dataset,\n",
    "    data_path,\n",
    "    batch_size,\n",
    "    num_workers,\n",
    "    transform,\n",
    "    use_test,\n",
    "    dataset_selection='clip_cifar10'\n",
    ")"
   ]
  },
  {
   "cell_type": "code",
   "execution_count": 65,
   "metadata": {},
   "outputs": [
    {
     "name": "stdout",
     "output_type": "stream",
     "text": [
      "Current GPU ID: 2\n"
     ]
    }
   ],
   "source": [
    "import torch\n",
    "\n",
    "# Check if CUDA is available\n",
    "if torch.cuda.is_available():\n",
    "    # Get the current device ID\n",
    "    device_id = torch.cuda.current_device()\n",
    "    print(f\"Current GPU ID: {device_id}\")\n",
    "else:\n",
    "    print(\"CUDA is not available.\")"
   ]
  },
  {
   "cell_type": "code",
   "execution_count": 66,
   "metadata": {},
   "outputs": [
    {
     "name": "stdout",
     "output_type": "stream",
     "text": [
      "Changed PyTorch GPU Device ID to 2\n"
     ]
    }
   ],
   "source": [
    "import torch\n",
    "\n",
    "# Set the desired GPU device ID\n",
    "device_id = 2\n",
    "\n",
    "# Check if CUDA is available\n",
    "if torch.cuda.is_available():\n",
    "    # Set the device to use GPU ID 2\n",
    "    torch.cuda.set_device(device_id)\n",
    "    print(f\"Changed PyTorch GPU Device ID to {device_id}\")\n",
    "else:\n",
    "    print(\"CUDA is not available.\")"
   ]
  },
  {
   "cell_type": "markdown",
   "metadata": {},
   "source": [
    "INITIAL MODELS"
   ]
  },
  {
   "cell_type": "code",
   "execution_count": 67,
   "metadata": {},
   "outputs": [
    {
     "name": "stdout",
     "output_type": "stream",
     "text": [
      "['checkpoint_10.1.pt', 'checkpoint_10.2.pt', 'checkpoint_10.3.pt', 'checkpoint_10.4.pt', 'checkpoint_10.5.pt']\n"
     ]
    }
   ],
   "source": [
    "import os\n",
    "template = train_utils.openai_imagenet_template\n",
    "test_results = []\n",
    "folder_path = '/share/nvmedata/santosh/model_soups/models_model_soups/cifar10_model_soups_models/'\n",
    "\n",
    "# List all files in the directory\n",
    "files = os.listdir(folder_path)\n",
    "\n",
    "# Filter files ending with '.pt'\n",
    "model_files = [file for file in files if file.endswith('.pt')]\n",
    "model_files.sort()\n",
    "print(model_files)"
   ]
  },
  {
   "cell_type": "code",
   "execution_count": 68,
   "metadata": {},
   "outputs": [],
   "source": [
    "device = 'cuda:2' if torch.cuda.is_available() else 'cpu'\n",
    "state_dicts = []\n",
    "\n",
    "for f in model_files:\n",
    "    model_path = os.path.join(folder_path, f)\n",
    "    state_dicts.append(torch.load(model_path, map_location=device))"
   ]
  },
  {
   "cell_type": "code",
   "execution_count": 69,
   "metadata": {},
   "outputs": [
    {
     "name": "stdout",
     "output_type": "stream",
     "text": [
      "Building zero-shot classifier.\n"
     ]
    },
    {
     "name": "stderr",
     "output_type": "stream",
     "text": [
      "100%|██████████| 10/10 [00:00<00:00, 40.76it/s]\n"
     ]
    },
    {
     "name": "stdout",
     "output_type": "stream",
     "text": [
      "Model: checkpoint_10.1.pt, Accuracy: 98.26\n",
      "Building zero-shot classifier.\n"
     ]
    },
    {
     "name": "stderr",
     "output_type": "stream",
     "text": [
      "100%|██████████| 10/10 [00:00<00:00, 40.37it/s]\n"
     ]
    },
    {
     "name": "stdout",
     "output_type": "stream",
     "text": [
      "Model: checkpoint_10.2.pt, Accuracy: 97.66\n",
      "Building zero-shot classifier.\n"
     ]
    },
    {
     "name": "stderr",
     "output_type": "stream",
     "text": [
      "100%|██████████| 10/10 [00:00<00:00, 40.38it/s]\n"
     ]
    },
    {
     "name": "stdout",
     "output_type": "stream",
     "text": [
      "Model: checkpoint_10.3.pt, Accuracy: 98.34\n",
      "Building zero-shot classifier.\n"
     ]
    },
    {
     "name": "stderr",
     "output_type": "stream",
     "text": [
      "100%|██████████| 10/10 [00:00<00:00, 40.55it/s]\n"
     ]
    },
    {
     "name": "stdout",
     "output_type": "stream",
     "text": [
      "Model: checkpoint_10.4.pt, Accuracy: 97.22\n",
      "Building zero-shot classifier.\n"
     ]
    },
    {
     "name": "stderr",
     "output_type": "stream",
     "text": [
      "100%|██████████| 10/10 [00:00<00:00, 40.17it/s]\n"
     ]
    },
    {
     "name": "stdout",
     "output_type": "stream",
     "text": [
      "Model: checkpoint_10.5.pt, Accuracy: 98.16\n",
      "[98.26, 97.66, 98.34, 97.22, 98.16]\n"
     ]
    }
   ],
   "source": [
    "val_results = []\n",
    "for model_file in model_files:\n",
    "    model_path = os.path.join(folder_path, model_file)\n",
    "\n",
    "    # Load each model\n",
    "    pre_model, _ = clip.load('ViT-B/32',device='cuda:2')\n",
    "    checkpoint = torch.load(model_path,map_location='cuda:2')\n",
    "    criterion = F.cross_entropy\n",
    "\n",
    "    feature_dim = checkpoint['classification_head.weight'].shape[1]\n",
    "    num_classes = checkpoint['classification_head.weight'].shape[0]\n",
    "    normalize = True\n",
    "    clf = train_utils.zeroshot_classifier(pre_model, classnames, template, 'cuda:2')\n",
    "    model = train_utils.ModelWrapper(pre_model, feature_dim, num_classes, normalize, clf)\n",
    "    model.load_state_dict(checkpoint)\n",
    "    \n",
    "    for pp in model.parameters():\n",
    "        pp.data = pp.data.float()\n",
    "    \n",
    "    model = model.to('cuda:2')\n",
    "\n",
    "    test_res = utils.test(loaders['val'], model, criterion)\n",
    "    print(f'Model: {model_file}, Accuracy: {test_res[\"accuracy\"]}')\n",
    "    val_results.append(test_res[\"accuracy\"])\n",
    "print(val_results)"
   ]
  },
  {
   "cell_type": "code",
   "execution_count": 70,
   "metadata": {},
   "outputs": [
    {
     "name": "stdout",
     "output_type": "stream",
     "text": [
      "Building zero-shot classifier.\n"
     ]
    },
    {
     "name": "stderr",
     "output_type": "stream",
     "text": [
      "100%|██████████| 10/10 [00:00<00:00, 40.25it/s]\n"
     ]
    },
    {
     "name": "stdout",
     "output_type": "stream",
     "text": [
      "Model: checkpoint_10.1.pt, Accuracy: 97.7\n",
      "Building zero-shot classifier.\n"
     ]
    },
    {
     "name": "stderr",
     "output_type": "stream",
     "text": [
      "100%|██████████| 10/10 [00:00<00:00, 40.29it/s]\n"
     ]
    },
    {
     "name": "stdout",
     "output_type": "stream",
     "text": [
      "Model: checkpoint_10.2.pt, Accuracy: 97.24\n",
      "Building zero-shot classifier.\n"
     ]
    },
    {
     "name": "stderr",
     "output_type": "stream",
     "text": [
      "100%|██████████| 10/10 [00:00<00:00, 40.33it/s]\n"
     ]
    },
    {
     "name": "stdout",
     "output_type": "stream",
     "text": [
      "Model: checkpoint_10.3.pt, Accuracy: 98.04\n",
      "Building zero-shot classifier.\n"
     ]
    },
    {
     "name": "stderr",
     "output_type": "stream",
     "text": [
      "100%|██████████| 10/10 [00:00<00:00, 40.53it/s]\n"
     ]
    },
    {
     "name": "stdout",
     "output_type": "stream",
     "text": [
      "Model: checkpoint_10.4.pt, Accuracy: 96.51\n",
      "Building zero-shot classifier.\n"
     ]
    },
    {
     "name": "stderr",
     "output_type": "stream",
     "text": [
      "100%|██████████| 10/10 [00:00<00:00, 40.55it/s]\n"
     ]
    },
    {
     "name": "stdout",
     "output_type": "stream",
     "text": [
      "Model: checkpoint_10.5.pt, Accuracy: 97.83\n"
     ]
    }
   ],
   "source": [
    "for model_file in model_files:\n",
    "    model_path = os.path.join(folder_path, model_file)\n",
    "\n",
    "    # Load each model\n",
    "    pre_model, _ = clip.load('ViT-B/32',device='cuda:2')\n",
    "    checkpoint = torch.load(model_path,map_location='cuda:2')\n",
    "    criterion = F.cross_entropy\n",
    "\n",
    "    feature_dim = checkpoint['classification_head.weight'].shape[1]\n",
    "    num_classes = checkpoint['classification_head.weight'].shape[0]\n",
    "    normalize = True\n",
    "    clf = train_utils.zeroshot_classifier(pre_model, classnames, template, 'cuda:2')\n",
    "    model = train_utils.ModelWrapper(pre_model, feature_dim, num_classes, normalize, clf)\n",
    "    model.load_state_dict(checkpoint)\n",
    "    \n",
    "    for pp in model.parameters():\n",
    "        pp.data = pp.data.float()\n",
    "    \n",
    "    model = model.to('cuda:2')\n",
    "\n",
    "    test_res = utils.test(loaders['test'], model, criterion)\n",
    "    print(f'Model: {model_file}, Accuracy: {test_res[\"accuracy\"]}')\n",
    "    test_results.append(test_res[\"accuracy\"])"
   ]
  },
  {
   "cell_type": "code",
   "execution_count": 71,
   "metadata": {},
   "outputs": [
    {
     "name": "stdout",
     "output_type": "stream",
     "text": [
      "5 [97.7, 97.24, 98.04, 96.51, 97.83]\n"
     ]
    }
   ],
   "source": [
    "print(len(state_dicts), test_results)"
   ]
  },
  {
   "cell_type": "code",
   "execution_count": 72,
   "metadata": {},
   "outputs": [
    {
     "data": {
      "text/plain": [
       "([0, 1, 2, 3, 4],\n",
       " [Text(0, 0, ''),\n",
       "  Text(0, 0, ''),\n",
       "  Text(0, 0, ''),\n",
       "  Text(0, 0, ''),\n",
       "  Text(0, 0, '')])"
      ]
     },
     "execution_count": 72,
     "metadata": {},
     "output_type": "execute_result"
    },
    {
     "data": {
      "image/png": "[encoded data removed]",
      "text/plain": [
       "<Figure size 432x288 with 1 Axes>"
      ]
     },
     "metadata": {
      "needs_background": "light"
     },
     "output_type": "display_data"
    }
   ],
   "source": [
    "names = [f'Model {i+1}' for i in range(len(state_dicts))]\n",
    "plt.bar(names, test_results)\n",
    "plt.title(\"Test Accuracy By Model\")\n",
    "plt.ylim([95,100])\n",
    "plt.xticks(rotation=30, ha='right')"
   ]
  },
  {
   "cell_type": "markdown",
   "metadata": {},
   "source": [
    "INITIAL_MODELS_UNIFORM_SOUP"
   ]
  },
  {
   "cell_type": "code",
   "execution_count": 73,
   "metadata": {},
   "outputs": [],
   "source": [
    "def get_model(state_dicts, alphal):\n",
    "  model, _ = clip.load('ViT-B/32')\n",
    "  feature_dim = state_dicts[0]['classification_head.weight'].shape[1]\n",
    "  num_classes = state_dicts[0]['classification_head.weight'].shape[0]\n",
    "  normalize = True\n",
    "  model = train_utils.ModelWrapper(model, feature_dim, num_classes, normalize)\n",
    "  sd = {k : state_dicts[0][k].clone() * alphal[0] for k in state_dicts[0].keys()}\n",
    "  for i in range(1, len(state_dicts)):\n",
    "      for k in state_dicts[i].keys():\n",
    "          sd[k] = sd[k] + state_dicts[i][k].clone() * alphal[i]\n",
    "  model.load_state_dict(sd)\n",
    "  model = model.to(device)\n",
    "  return model"
   ]
  },
  {
   "cell_type": "code",
   "execution_count": 74,
   "metadata": {},
   "outputs": [
    {
     "name": "stdout",
     "output_type": "stream",
     "text": [
      "['Model 1', 'Model 2', 'Model 3', 'Model 4', 'Model 5'] [97.7, 97.24, 98.04, 96.51, 97.83]\n"
     ]
    }
   ],
   "source": [
    "print(names, test_results)"
   ]
  },
  {
   "cell_type": "code",
   "execution_count": 75,
   "metadata": {},
   "outputs": [
    {
     "name": "stdout",
     "output_type": "stream",
     "text": [
      "Model: 6, Accuracy: 98.39\n"
     ]
    },
    {
     "data": {
      "text/plain": [
       "([0, 1, 2, 3, 4, 5],\n",
       " [Text(0, 0, ''),\n",
       "  Text(0, 0, ''),\n",
       "  Text(0, 0, ''),\n",
       "  Text(0, 0, ''),\n",
       "  Text(0, 0, ''),\n",
       "  Text(0, 0, '')])"
      ]
     },
     "execution_count": 75,
     "metadata": {},
     "output_type": "execute_result"
    },
    {
     "data": {
      "image/png": "[encoded data removed]",
      "text/plain": [
       "<Figure size 432x288 with 1 Axes>"
      ]
     },
     "metadata": {
      "needs_background": "light"
     },
     "output_type": "display_data"
    }
   ],
   "source": [
    "alphal = [1 / len(state_dicts) for i in range(len(state_dicts))]\n",
    "model = get_model(state_dicts, alphal)\n",
    "test_res = utils.test(loaders['test'], model, criterion)\n",
    "print(f'Model: {6}, Accuracy: {test_res[\"accuracy\"]}')\n",
    "test_results.append(test_res[\"accuracy\"])\n",
    "names.append(\"Uniform Soup\")\n",
    "plt.bar(names, test_results)\n",
    "plt.title(\"Test Accuracy By Model\")\n",
    "plt.ylim([95,100])\n",
    "plt.xticks(rotation=30, ha='right')"
   ]
  },
  {
   "cell_type": "code",
   "execution_count": 76,
   "metadata": {},
   "outputs": [
    {
     "name": "stdout",
     "output_type": "stream",
     "text": [
      "Models [2, 0] got 98.7% on validation.\n",
      "Models [2, 0, 4] got 98.88% on validation.\n",
      "Models [2, 0, 4, 1] got 98.84% on validation.\n",
      "Models [2, 0, 4, 3] got 98.84% on validation.\n"
     ]
    }
   ],
   "source": [
    "ranked_candidates = [i for i in range(len(state_dicts))]\n",
    "ranked_candidates.sort(key=lambda x: -val_results[x])\n",
    "\n",
    "current_best = val_results[ranked_candidates[0]]\n",
    "best_ingredients = ranked_candidates[:1]\n",
    "for i in range(1, len(state_dicts)):\n",
    "  # add current index to the ingredients\n",
    "  ingredient_indices = best_ingredients \\\n",
    "    + [ranked_candidates[i]]\n",
    "  alphal = [0 for i in range(len(state_dicts))]\n",
    "  for j in ingredient_indices:\n",
    "    alphal[j] = 1 / len(ingredient_indices)\n",
    "  \n",
    "  # benchmark and conditionally append\n",
    "  model = get_model(state_dicts, alphal)\n",
    "  test_res = utils.test(loaders['val'], model, criterion)\n",
    "  current = test_res['accuracy']\n",
    "  print(f'Models {ingredient_indices} got {current}% on validation.')\n",
    "  if current > current_best:\n",
    "    current_best = current\n",
    "    best_ingredients = ingredient_indices\n"
   ]
  },
  {
   "cell_type": "code",
   "execution_count": 77,
   "metadata": {},
   "outputs": [],
   "source": [
    "alphal = [0 for i in range(len(state_dicts))]\n",
    "for j in best_ingredients:\n",
    "  alphal[j] = 1 / len(best_ingredients)\n",
    "model = get_model(state_dicts, alphal)\n",
    "test_res = utils.test(loaders['test'], model, criterion)\n",
    "\n",
    "test_results.append(test_res['accuracy'])"
   ]
  },
  {
   "cell_type": "code",
   "execution_count": 79,
   "metadata": {},
   "outputs": [
    {
     "name": "stdout",
     "output_type": "stream",
     "text": [
      "['Model 1', 'Model 2', 'Model 3', 'Model 4', 'Model 5', 'Uniform Soup'] [97.7, 97.24, 98.04, 96.51, 97.83, 98.39, 98.45]\n"
     ]
    }
   ],
   "source": [
    "print(names, test_results)"
   ]
  },
  {
   "cell_type": "code",
   "execution_count": 81,
   "metadata": {},
   "outputs": [
    {
     "data": {
      "text/plain": [
       "([0, 1, 2, 3, 4, 5, 6],\n",
       " [Text(0, 0, ''),\n",
       "  Text(0, 0, ''),\n",
       "  Text(0, 0, ''),\n",
       "  Text(0, 0, ''),\n",
       "  Text(0, 0, ''),\n",
       "  Text(0, 0, ''),\n",
       "  Text(0, 0, '')])"
      ]
     },
     "execution_count": 81,
     "metadata": {},
     "output_type": "execute_result"
    },
    {
     "data": {
      "image/png": "[encoded data removed]",
      "text/plain": [
       "<Figure size 432x288 with 1 Axes>"
      ]
     },
     "metadata": {
      "needs_background": "light"
     },
     "output_type": "display_data"
    }
   ],
   "source": [
    "names.append(\"Greedy Soup\")\n",
    "plt.bar(names, test_results)\n",
    "plt.title(\"Test Accuracy By Model\")\n",
    "plt.ylim([95,100])\n",
    "plt.xticks(rotation=30, ha='right')"
   ]
  },
  {
   "cell_type": "markdown",
   "metadata": {},
   "source": [
    "MODEL-1"
   ]
  },
  {
   "cell_type": "code",
   "execution_count": 89,
   "metadata": {},
   "outputs": [
    {
     "name": "stdout",
     "output_type": "stream",
     "text": [
      "['checkpoint_10.1.pt', 'fge-11.pt', 'fge-13.pt', 'fge-15.pt', 'fge-17.pt', 'fge-19.pt', 'fge-21.pt', 'fge-23.pt', 'fge-25.pt', 'fge-27.pt', 'fge-29.pt']\n"
     ]
    }
   ],
   "source": [
    "import os\n",
    "template = train_utils.openai_imagenet_template\n",
    "test_results = []\n",
    "folder_path = '/share/nvmedata/santosh/model_soups/models_model_soups/fge_clip_ensemble/fge_cifar_clip_checkpoint_1_e-6_v2'\n",
    "\n",
    "# List all files in the directory\n",
    "files = os.listdir(folder_path)\n",
    "\n",
    "# Filter files ending with '.pt'\n",
    "model_files = [file for file in files if file.endswith('.pt')]\n",
    "model_files.sort()\n",
    "print(model_files)"
   ]
  },
  {
   "cell_type": "code",
   "execution_count": 90,
   "metadata": {},
   "outputs": [
    {
     "name": "stdout",
     "output_type": "stream",
     "text": [
      "Building zero-shot classifier.\n"
     ]
    },
    {
     "name": "stderr",
     "output_type": "stream",
     "text": [
      "100%|██████████| 10/10 [00:00<00:00, 36.12it/s]\n"
     ]
    },
    {
     "name": "stdout",
     "output_type": "stream",
     "text": [
      "Model: checkpoint_10.1.pt, Accuracy: 98.26\n",
      "Building zero-shot classifier.\n"
     ]
    },
    {
     "name": "stderr",
     "output_type": "stream",
     "text": [
      "100%|██████████| 10/10 [00:00<00:00, 40.74it/s]\n"
     ]
    },
    {
     "name": "stdout",
     "output_type": "stream",
     "text": [
      "Model: fge-11.pt, Accuracy: 98.32\n",
      "Building zero-shot classifier.\n"
     ]
    },
    {
     "name": "stderr",
     "output_type": "stream",
     "text": [
      "100%|██████████| 10/10 [00:00<00:00, 40.68it/s]\n"
     ]
    },
    {
     "name": "stdout",
     "output_type": "stream",
     "text": [
      "Model: fge-13.pt, Accuracy: 98.36\n",
      "Building zero-shot classifier.\n"
     ]
    },
    {
     "name": "stderr",
     "output_type": "stream",
     "text": [
      "100%|██████████| 10/10 [00:00<00:00, 40.22it/s]\n"
     ]
    },
    {
     "name": "stdout",
     "output_type": "stream",
     "text": [
      "Model: fge-15.pt, Accuracy: 98.36\n",
      "Building zero-shot classifier.\n"
     ]
    },
    {
     "name": "stderr",
     "output_type": "stream",
     "text": [
      "100%|██████████| 10/10 [00:00<00:00, 40.60it/s]\n"
     ]
    },
    {
     "name": "stdout",
     "output_type": "stream",
     "text": [
      "Model: fge-17.pt, Accuracy: 98.36\n",
      "Building zero-shot classifier.\n"
     ]
    },
    {
     "name": "stderr",
     "output_type": "stream",
     "text": [
      "100%|██████████| 10/10 [00:00<00:00, 40.39it/s]\n"
     ]
    },
    {
     "name": "stdout",
     "output_type": "stream",
     "text": [
      "Model: fge-19.pt, Accuracy: 98.38\n",
      "Building zero-shot classifier.\n"
     ]
    },
    {
     "name": "stderr",
     "output_type": "stream",
     "text": [
      "100%|██████████| 10/10 [00:00<00:00, 40.63it/s]\n"
     ]
    },
    {
     "name": "stdout",
     "output_type": "stream",
     "text": [
      "Model: fge-21.pt, Accuracy: 98.36\n",
      "Building zero-shot classifier.\n"
     ]
    },
    {
     "name": "stderr",
     "output_type": "stream",
     "text": [
      "100%|██████████| 10/10 [00:00<00:00, 40.49it/s]\n"
     ]
    },
    {
     "name": "stdout",
     "output_type": "stream",
     "text": [
      "Model: fge-23.pt, Accuracy: 98.36\n",
      "Building zero-shot classifier.\n"
     ]
    },
    {
     "name": "stderr",
     "output_type": "stream",
     "text": [
      "100%|██████████| 10/10 [00:00<00:00, 40.39it/s]\n"
     ]
    },
    {
     "name": "stdout",
     "output_type": "stream",
     "text": [
      "Model: fge-25.pt, Accuracy: 98.32\n",
      "Building zero-shot classifier.\n"
     ]
    },
    {
     "name": "stderr",
     "output_type": "stream",
     "text": [
      "100%|██████████| 10/10 [00:00<00:00, 40.41it/s]\n"
     ]
    },
    {
     "name": "stdout",
     "output_type": "stream",
     "text": [
      "Model: fge-27.pt, Accuracy: 98.3\n",
      "Building zero-shot classifier.\n"
     ]
    },
    {
     "name": "stderr",
     "output_type": "stream",
     "text": [
      "100%|██████████| 10/10 [00:00<00:00, 40.50it/s]\n"
     ]
    },
    {
     "name": "stdout",
     "output_type": "stream",
     "text": [
      "Model: fge-29.pt, Accuracy: 98.28\n",
      "[98.26, 98.32, 98.36, 98.36, 98.36, 98.38, 98.36, 98.36, 98.32, 98.3, 98.28]\n"
     ]
    }
   ],
   "source": [
    "device = 'cuda:2' if torch.cuda.is_available() else 'cpu'\n",
    "state_dicts = []\n",
    "\n",
    "for f in model_files:\n",
    "    model_path = os.path.join(folder_path, f)\n",
    "    if f.startswith('checkpoint'):\n",
    "        state_dicts.append(torch.load(model_path, map_location=device))    \n",
    "    else:\n",
    "        state_dicts.append(torch.load(model_path, map_location=device)['model_state'])\n",
    "\n",
    "\n",
    "val_results = []\n",
    "for model_file in model_files:\n",
    "    if model_file.startswith('checkpoint'):\n",
    "        model_path = os.path.join(folder_path, model_file)\n",
    "        # Load each model\n",
    "        pre_model, _ = clip.load('ViT-B/32',device='cuda:2')\n",
    "        checkpoint = torch.load(model_path,map_location='cuda:2')\n",
    "    else:\n",
    "        model_path = os.path.join(folder_path, model_file)\n",
    "        pre_model, _ = clip.load('ViT-B/32',device='cuda:2')\n",
    "        checkpoint = torch.load(model_path,map_location='cuda:2')\n",
    "        checkpoint = checkpoint['model_state']\n",
    "    criterion = F.cross_entropy\n",
    "    feature_dim = checkpoint['classification_head.weight'].shape[1]\n",
    "    num_classes = checkpoint['classification_head.weight'].shape[0]\n",
    "    normalize = True\n",
    "    clf = train_utils.zeroshot_classifier(pre_model, classnames, template, 'cuda:2')\n",
    "    model = train_utils.ModelWrapper(pre_model, feature_dim, num_classes, normalize, clf)\n",
    "    model.load_state_dict(checkpoint)\n",
    "    \n",
    "    for pp in model.parameters():\n",
    "        pp.data = pp.data.float()\n",
    "    \n",
    "    model = model.to('cuda:2')\n",
    "\n",
    "    test_res = utils.test(loaders['val'], model, criterion)\n",
    "    print(f'Model: {model_file}, Accuracy: {test_res[\"accuracy\"]}')\n",
    "    val_results.append(test_res[\"accuracy\"])\n",
    "print(val_results)"
   ]
  },
  {
   "cell_type": "code",
   "execution_count": 91,
   "metadata": {},
   "outputs": [
    {
     "name": "stdout",
     "output_type": "stream",
     "text": [
      "Building zero-shot classifier.\n"
     ]
    },
    {
     "name": "stderr",
     "output_type": "stream",
     "text": [
      "100%|██████████| 10/10 [00:00<00:00, 40.33it/s]\n"
     ]
    },
    {
     "name": "stdout",
     "output_type": "stream",
     "text": [
      "Model: checkpoint_10.1.pt, Accuracy: 97.7\n",
      "Building zero-shot classifier.\n"
     ]
    },
    {
     "name": "stderr",
     "output_type": "stream",
     "text": [
      "100%|██████████| 10/10 [00:00<00:00, 39.53it/s]\n"
     ]
    },
    {
     "name": "stdout",
     "output_type": "stream",
     "text": [
      "Model: fge-11.pt, Accuracy: 97.62\n",
      "Building zero-shot classifier.\n"
     ]
    },
    {
     "name": "stderr",
     "output_type": "stream",
     "text": [
      "100%|██████████| 10/10 [00:00<00:00, 40.61it/s]\n"
     ]
    },
    {
     "name": "stdout",
     "output_type": "stream",
     "text": [
      "Model: fge-13.pt, Accuracy: 97.61\n",
      "Building zero-shot classifier.\n"
     ]
    },
    {
     "name": "stderr",
     "output_type": "stream",
     "text": [
      "100%|██████████| 10/10 [00:00<00:00, 40.39it/s]\n"
     ]
    },
    {
     "name": "stdout",
     "output_type": "stream",
     "text": [
      "Model: fge-15.pt, Accuracy: 97.63\n",
      "Building zero-shot classifier.\n"
     ]
    },
    {
     "name": "stderr",
     "output_type": "stream",
     "text": [
      "100%|██████████| 10/10 [00:00<00:00, 40.51it/s]\n"
     ]
    },
    {
     "name": "stdout",
     "output_type": "stream",
     "text": [
      "Model: fge-17.pt, Accuracy: 97.71\n",
      "Building zero-shot classifier.\n"
     ]
    },
    {
     "name": "stderr",
     "output_type": "stream",
     "text": [
      "100%|██████████| 10/10 [00:00<00:00, 38.79it/s]\n"
     ]
    },
    {
     "name": "stdout",
     "output_type": "stream",
     "text": [
      "Model: fge-19.pt, Accuracy: 97.7\n",
      "Building zero-shot classifier.\n"
     ]
    },
    {
     "name": "stderr",
     "output_type": "stream",
     "text": [
      "100%|██████████| 10/10 [00:00<00:00, 40.46it/s]\n"
     ]
    },
    {
     "name": "stdout",
     "output_type": "stream",
     "text": [
      "Model: fge-21.pt, Accuracy: 97.66\n",
      "Building zero-shot classifier.\n"
     ]
    },
    {
     "name": "stderr",
     "output_type": "stream",
     "text": [
      "100%|██████████| 10/10 [00:00<00:00, 40.61it/s]\n"
     ]
    },
    {
     "name": "stdout",
     "output_type": "stream",
     "text": [
      "Model: fge-23.pt, Accuracy: 97.63\n",
      "Building zero-shot classifier.\n"
     ]
    },
    {
     "name": "stderr",
     "output_type": "stream",
     "text": [
      "100%|██████████| 10/10 [00:00<00:00, 40.32it/s]\n"
     ]
    },
    {
     "name": "stdout",
     "output_type": "stream",
     "text": [
      "Model: fge-25.pt, Accuracy: 97.61\n",
      "Building zero-shot classifier.\n"
     ]
    },
    {
     "name": "stderr",
     "output_type": "stream",
     "text": [
      "100%|██████████| 10/10 [00:00<00:00, 40.40it/s]\n"
     ]
    },
    {
     "name": "stdout",
     "output_type": "stream",
     "text": [
      "Model: fge-27.pt, Accuracy: 97.58\n",
      "Building zero-shot classifier.\n"
     ]
    },
    {
     "name": "stderr",
     "output_type": "stream",
     "text": [
      "100%|██████████| 10/10 [00:00<00:00, 40.37it/s]\n"
     ]
    },
    {
     "name": "stdout",
     "output_type": "stream",
     "text": [
      "Model: fge-29.pt, Accuracy: 97.51\n"
     ]
    }
   ],
   "source": [
    "for model_file in model_files:\n",
    "    model_path = os.path.join(folder_path, model_file)\n",
    "\n",
    "    # Load each model\n",
    "    if model_file.startswith('checkpoint'):\n",
    "        model_path = os.path.join(folder_path, model_file)\n",
    "        # Load each model\n",
    "        pre_model, _ = clip.load('ViT-B/32',device='cuda:2')\n",
    "        checkpoint = torch.load(model_path,map_location='cuda:2')\n",
    "    else:\n",
    "        model_path = os.path.join(folder_path, model_file)\n",
    "        pre_model, _ = clip.load('ViT-B/32',device='cuda:2')\n",
    "        checkpoint = torch.load(model_path,map_location='cuda:2')\n",
    "        checkpoint = checkpoint['model_state']\n",
    "    criterion = F.cross_entropy\n",
    "\n",
    "    feature_dim = checkpoint['classification_head.weight'].shape[1]\n",
    "    num_classes = checkpoint['classification_head.weight'].shape[0]\n",
    "    normalize = True\n",
    "    clf = train_utils.zeroshot_classifier(pre_model, classnames, template, 'cuda:2')\n",
    "    model = train_utils.ModelWrapper(pre_model, feature_dim, num_classes, normalize, clf)\n",
    "    model.load_state_dict(checkpoint)\n",
    "    \n",
    "    for pp in model.parameters():\n",
    "        pp.data = pp.data.float()\n",
    "    \n",
    "    model = model.to('cuda:2')\n",
    "\n",
    "    test_res = utils.test(loaders['test'], model, criterion)\n",
    "    print(f'Model: {model_file}, Accuracy: {test_res[\"accuracy\"]}')\n",
    "    test_results.append(test_res[\"accuracy\"])"
   ]
  },
  {
   "cell_type": "code",
   "execution_count": 92,
   "metadata": {},
   "outputs": [
    {
     "name": "stdout",
     "output_type": "stream",
     "text": [
      "11 [97.7, 97.62, 97.61, 97.63, 97.71, 97.7, 97.66, 97.63, 97.61, 97.58, 97.51]\n"
     ]
    }
   ],
   "source": [
    "print(len(state_dicts), test_results)"
   ]
  },
  {
   "cell_type": "code",
   "execution_count": 93,
   "metadata": {},
   "outputs": [
    {
     "data": {
      "text/plain": [
       "([0, 1, 2, 3, 4, 5, 6, 7, 8, 9, 10],\n",
       " [Text(0, 0, ''),\n",
       "  Text(0, 0, ''),\n",
       "  Text(0, 0, ''),\n",
       "  Text(0, 0, ''),\n",
       "  Text(0, 0, ''),\n",
       "  Text(0, 0, ''),\n",
       "  Text(0, 0, ''),\n",
       "  Text(0, 0, ''),\n",
       "  Text(0, 0, ''),\n",
       "  Text(0, 0, ''),\n",
       "  Text(0, 0, '')])"
      ]
     },
     "execution_count": 93,
     "metadata": {},
     "output_type": "execute_result"
    },
    {
     "data": {
      "image/png": "[encoded data removed]",
      "text/plain": [
       "<Figure size 432x288 with 1 Axes>"
      ]
     },
     "metadata": {
      "needs_background": "light"
     },
     "output_type": "display_data"
    }
   ],
   "source": [
    "names = [f'Model {i+1}' for i in range(len(state_dicts))]\n",
    "plt.bar(names, test_results)\n",
    "plt.title(\"Test Accuracy By Model\")\n",
    "plt.ylim([95,100])\n",
    "plt.xticks(rotation=30, ha='right')"
   ]
  },
  {
   "cell_type": "code",
   "execution_count": 94,
   "metadata": {},
   "outputs": [
    {
     "name": "stdout",
     "output_type": "stream",
     "text": [
      "Model: 6, Accuracy: 97.68\n"
     ]
    },
    {
     "data": {
      "text/plain": [
       "([0, 1, 2, 3, 4, 5, 6, 7, 8, 9, 10, 11],\n",
       " [Text(0, 0, ''),\n",
       "  Text(0, 0, ''),\n",
       "  Text(0, 0, ''),\n",
       "  Text(0, 0, ''),\n",
       "  Text(0, 0, ''),\n",
       "  Text(0, 0, ''),\n",
       "  Text(0, 0, ''),\n",
       "  Text(0, 0, ''),\n",
       "  Text(0, 0, ''),\n",
       "  Text(0, 0, ''),\n",
       "  Text(0, 0, ''),\n",
       "  Text(0, 0, '')])"
      ]
     },
     "execution_count": 94,
     "metadata": {},
     "output_type": "execute_result"
    },
    {
     "data": {
      "image/png": "[encoded data removed]",
      "text/plain": [
       "<Figure size 432x288 with 1 Axes>"
      ]
     },
     "metadata": {
      "needs_background": "light"
     },
     "output_type": "display_data"
    }
   ],
   "source": [
    "alphal = [1 / len(state_dicts) for i in range(len(state_dicts))]\n",
    "model = get_model(state_dicts, alphal)\n",
    "test_res = utils.test(loaders['test'], model, criterion)\n",
    "print(f'Model: {6}, Accuracy: {test_res[\"accuracy\"]}')\n",
    "test_results.append(test_res[\"accuracy\"])\n",
    "names.append(\"Uniform Soup\")\n",
    "plt.bar(names, test_results)\n",
    "plt.title(\"Test Accuracy By Model\")\n",
    "plt.ylim([95,100])\n",
    "plt.xticks(rotation=30, ha='right')"
   ]
  },
  {
   "cell_type": "code",
   "execution_count": 95,
   "metadata": {},
   "outputs": [
    {
     "name": "stdout",
     "output_type": "stream",
     "text": [
      "Models [5, 2] got 98.36% on validation.\n",
      "Models [5, 3] got 98.36% on validation.\n",
      "Models [5, 4] got 98.36% on validation.\n",
      "Models [5, 6] got 98.38% on validation.\n",
      "Models [5, 7] got 98.36% on validation.\n",
      "Models [5, 1] got 98.36% on validation.\n",
      "Models [5, 8] got 98.36% on validation.\n",
      "Models [5, 9] got 98.32% on validation.\n",
      "Models [5, 10] got 98.36% on validation.\n",
      "Models [5, 0] got 98.4% on validation.\n"
     ]
    }
   ],
   "source": [
    "ranked_candidates = [i for i in range(len(state_dicts))]\n",
    "ranked_candidates.sort(key=lambda x: -val_results[x])\n",
    "\n",
    "current_best = val_results[ranked_candidates[0]]\n",
    "best_ingredients = ranked_candidates[:1]\n",
    "for i in range(1, len(state_dicts)):\n",
    "  # add current index to the ingredients\n",
    "  ingredient_indices = best_ingredients \\\n",
    "    + [ranked_candidates[i]]\n",
    "  alphal = [0 for i in range(len(state_dicts))]\n",
    "  for j in ingredient_indices:\n",
    "    alphal[j] = 1 / len(ingredient_indices)\n",
    "  \n",
    "  # benchmark and conditionally append\n",
    "  model = get_model(state_dicts, alphal)\n",
    "  test_res = utils.test(loaders['val'], model, criterion)\n",
    "  current = test_res['accuracy']\n",
    "  print(f'Models {ingredient_indices} got {current}% on validation.')\n",
    "  if current > current_best:\n",
    "    current_best = current\n",
    "    best_ingredients = ingredient_indices\n"
   ]
  },
  {
   "cell_type": "code",
   "execution_count": 96,
   "metadata": {},
   "outputs": [],
   "source": [
    "alphal = [0 for i in range(len(state_dicts))]\n",
    "for j in best_ingredients:\n",
    "  alphal[j] = 1 / len(best_ingredients)\n",
    "model = get_model(state_dicts, alphal)\n",
    "test_res = utils.test(loaders['test'], model, criterion)\n",
    "\n",
    "test_results.append(test_res['accuracy'])"
   ]
  },
  {
   "cell_type": "code",
   "execution_count": 97,
   "metadata": {},
   "outputs": [
    {
     "name": "stdout",
     "output_type": "stream",
     "text": [
      "[97.7, 97.62, 97.61, 97.63, 97.71, 97.7, 97.66, 97.63, 97.61, 97.58, 97.51, 97.68, 97.74]\n"
     ]
    }
   ],
   "source": [
    "print(test_results)"
   ]
  },
  {
   "cell_type": "markdown",
   "metadata": {},
   "source": []
  },
  {
   "cell_type": "code",
   "execution_count": null,
   "metadata": {},
   "outputs": [],
   "source": []
  }
 ],
 "metadata": {
  "kernelspec": {
   "display_name": "model_soups",
   "language": "python",
   "name": "python3"
  },
  "language_info": {
   "codemirror_mode": {
    "name": "ipython",
    "version": 3
   },
   "file_extension": ".py",
   "mimetype": "text/x-python",
   "name": "python",
   "nbconvert_exporter": "python",
   "pygments_lexer": "ipython3",
   "version": "3.6.15"
  }
 },
 "nbformat": 4,
 "nbformat_minor": 2
}
